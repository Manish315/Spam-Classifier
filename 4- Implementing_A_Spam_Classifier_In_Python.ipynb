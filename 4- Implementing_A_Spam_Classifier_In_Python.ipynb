{
 "cells": [
  {
   "cell_type": "code",
   "execution_count": 17,
   "metadata": {},
   "outputs": [],
   "source": [
    "import nltk\n",
    "import re\n",
    "import pandas as pd\n",
    "from nltk.stem import PorterStemmer\n",
    "from nltk.stem import WordNetLemmatizer\n",
    "from nltk.corpus import stopwords"
   ]
  },
  {
   "cell_type": "code",
   "execution_count": 18,
   "metadata": {},
   "outputs": [
    {
     "data": {
      "text/html": [
       "<div>\n",
       "<style scoped>\n",
       "    .dataframe tbody tr th:only-of-type {\n",
       "        vertical-align: middle;\n",
       "    }\n",
       "\n",
       "    .dataframe tbody tr th {\n",
       "        vertical-align: top;\n",
       "    }\n",
       "\n",
       "    .dataframe thead th {\n",
       "        text-align: right;\n",
       "    }\n",
       "</style>\n",
       "<table border=\"1\" class=\"dataframe\">\n",
       "  <thead>\n",
       "    <tr style=\"text-align: right;\">\n",
       "      <th></th>\n",
       "      <th>label</th>\n",
       "      <th>SMS</th>\n",
       "    </tr>\n",
       "  </thead>\n",
       "  <tbody>\n",
       "    <tr>\n",
       "      <th>0</th>\n",
       "      <td>ham</td>\n",
       "      <td>Go until jurong point, crazy.. Available only ...</td>\n",
       "    </tr>\n",
       "    <tr>\n",
       "      <th>1</th>\n",
       "      <td>ham</td>\n",
       "      <td>Ok lar... Joking wif u oni...</td>\n",
       "    </tr>\n",
       "    <tr>\n",
       "      <th>2</th>\n",
       "      <td>spam</td>\n",
       "      <td>Free entry in 2 a wkly comp to win FA Cup fina...</td>\n",
       "    </tr>\n",
       "    <tr>\n",
       "      <th>3</th>\n",
       "      <td>ham</td>\n",
       "      <td>U dun say so early hor... U c already then say...</td>\n",
       "    </tr>\n",
       "    <tr>\n",
       "      <th>4</th>\n",
       "      <td>ham</td>\n",
       "      <td>Nah I don't think he goes to usf, he lives aro...</td>\n",
       "    </tr>\n",
       "    <tr>\n",
       "      <th>...</th>\n",
       "      <td>...</td>\n",
       "      <td>...</td>\n",
       "    </tr>\n",
       "    <tr>\n",
       "      <th>5567</th>\n",
       "      <td>spam</td>\n",
       "      <td>This is the 2nd time we have tried 2 contact u...</td>\n",
       "    </tr>\n",
       "    <tr>\n",
       "      <th>5568</th>\n",
       "      <td>ham</td>\n",
       "      <td>Will ü b going to esplanade fr home?</td>\n",
       "    </tr>\n",
       "    <tr>\n",
       "      <th>5569</th>\n",
       "      <td>ham</td>\n",
       "      <td>Pity, * was in mood for that. So...any other s...</td>\n",
       "    </tr>\n",
       "    <tr>\n",
       "      <th>5570</th>\n",
       "      <td>ham</td>\n",
       "      <td>The guy did some bitching but I acted like i'd...</td>\n",
       "    </tr>\n",
       "    <tr>\n",
       "      <th>5571</th>\n",
       "      <td>ham</td>\n",
       "      <td>Rofl. Its true to its name</td>\n",
       "    </tr>\n",
       "  </tbody>\n",
       "</table>\n",
       "<p>5572 rows × 2 columns</p>\n",
       "</div>"
      ],
      "text/plain": [
       "     label                                                SMS\n",
       "0      ham  Go until jurong point, crazy.. Available only ...\n",
       "1      ham                      Ok lar... Joking wif u oni...\n",
       "2     spam  Free entry in 2 a wkly comp to win FA Cup fina...\n",
       "3      ham  U dun say so early hor... U c already then say...\n",
       "4      ham  Nah I don't think he goes to usf, he lives aro...\n",
       "...    ...                                                ...\n",
       "5567  spam  This is the 2nd time we have tried 2 contact u...\n",
       "5568   ham               Will ü b going to esplanade fr home?\n",
       "5569   ham  Pity, * was in mood for that. So...any other s...\n",
       "5570   ham  The guy did some bitching but I acted like i'd...\n",
       "5571   ham                         Rofl. Its true to its name\n",
       "\n",
       "[5572 rows x 2 columns]"
      ]
     },
     "execution_count": 18,
     "metadata": {},
     "output_type": "execute_result"
    }
   ],
   "source": [
    "messages = pd.read_csv('SMS_spam_collection/SMSSpamCollection', sep='\\t', names=['label', 'SMS'])\n",
    "messages"
   ]
  },
  {
   "cell_type": "code",
   "execution_count": 40,
   "metadata": {},
   "outputs": [],
   "source": [
    "ps = PorterStemmer()\n",
    "lmtzr = WordNetLemmatizer()\n",
    "cleansed_messages_lmtzr = []\n",
    "cleansed_messages_ps = []\n",
    "for i in range(len(messages)):\n",
    "    ### Remove any character apart from alphabets\n",
    "    messages_alpha = re.sub('[^a-zA-Z]', ' ',messages.loc[i,'SMS'])\n",
    "    ### Lower the case of all characters\n",
    "    messages_alpha_lower = messages_alpha.lower()\n",
    "    ### Split the messages into individual words\n",
    "    messages_alpha_split = messages_alpha_lower.split()\n",
    "    ### Removal of stopwords from the messages\n",
    "    ### Case 1- PorterStemmer\n",
    "    messages_without_stopwords_ps = [ps.stem(word) \n",
    "                          for word in messages_alpha_split\n",
    "                          if word not in set(stopwords.words('english'))]\n",
    "    ### Case 2- WordNetLemmatizer\n",
    "    messages_without_stopwords_lmtzr = [lmtzr.lemmatize(word) \n",
    "                          for word in messages_alpha_split\n",
    "                          if word not in set(stopwords.words('english'))]\n",
    "    ### Join the words to form the message\n",
    "    messages_final_ps = \" \". join(messages_without_stopwords_ps)\n",
    "    messages_final_lmtzr = \" \". join(messages_without_stopwords_lmtzr)\n",
    "    ### Append all the messages into a new list\n",
    "    cleansed_messages_ps.append(messages_final_ps)\n",
    "    cleansed_messages_lmtzr.append(messages_final_lmtzr)"
   ]
  },
  {
   "cell_type": "code",
   "execution_count": 42,
   "metadata": {},
   "outputs": [
    {
     "name": "stdout",
     "output_type": "stream",
     "text": [
      "5572 5572\n"
     ]
    }
   ],
   "source": [
    "print(len(cleansed_messages_ps), len(cleansed_messages_lmtzr))"
   ]
  },
  {
   "cell_type": "code",
   "execution_count": 48,
   "metadata": {},
   "outputs": [],
   "source": [
    "### Creating a bag of words and tf-idf vectorizer\n",
    "from sklearn.feature_extraction.text import CountVectorizer\n",
    "from sklearn.feature_extraction.text import TfidfVectorizer\n",
    "### Select most common 2500 words\n",
    "cv = CountVectorizer(max_features=2500)\n",
    "tfidf = TfidfVectorizer(max_features=2500)\n",
    "\n",
    "#### 4 cases here\n",
    "### Case 1:--------> Stemming and CountVectorizer\n",
    "X_ps_cv = cv.fit_transform(cleansed_messages_ps).toarray()\n",
    "### Case 2:--------> Lemmatization and CountVectorizer\n",
    "X_lmtzr_cv = cv.fit_transform(cleansed_messages_lmtzr).toarray()\n",
    "### Case 3:--------> Stemming and TfDifVectorizer\n",
    "X_ps_tfidf = tfidf.fit_transform(cleansed_messages_ps).toarray()\n",
    "### Case 4:--------> Lemmatization and TfDifVectorizer\n",
    "X_lmtzr_tfidf = tfidf.fit_transform(cleansed_messages_lmtzr).toarray()"
   ]
  },
  {
   "cell_type": "code",
   "execution_count": 49,
   "metadata": {},
   "outputs": [],
   "source": [
    "### Creating dummy variables for label column\n",
    "y = pd.get_dummies(messages['label'], drop_first= True)"
   ]
  },
  {
   "cell_type": "code",
   "execution_count": 51,
   "metadata": {},
   "outputs": [
    {
     "name": "stderr",
     "output_type": "stream",
     "text": [
      "F:\\anconda3\\lib\\site-packages\\sklearn\\utils\\validation.py:724: DataConversionWarning: A column-vector y was passed when a 1d array was expected. Please change the shape of y to (n_samples, ), for example using ravel().\n",
      "  y = column_or_1d(y, warn=True)\n",
      "F:\\anconda3\\lib\\site-packages\\sklearn\\utils\\validation.py:724: DataConversionWarning: A column-vector y was passed when a 1d array was expected. Please change the shape of y to (n_samples, ), for example using ravel().\n",
      "  y = column_or_1d(y, warn=True)\n",
      "F:\\anconda3\\lib\\site-packages\\sklearn\\utils\\validation.py:724: DataConversionWarning: A column-vector y was passed when a 1d array was expected. Please change the shape of y to (n_samples, ), for example using ravel().\n",
      "  y = column_or_1d(y, warn=True)\n",
      "F:\\anconda3\\lib\\site-packages\\sklearn\\utils\\validation.py:724: DataConversionWarning: A column-vector y was passed when a 1d array was expected. Please change the shape of y to (n_samples, ), for example using ravel().\n",
      "  y = column_or_1d(y, warn=True)\n"
     ]
    }
   ],
   "source": [
    "### Train_test_split\n",
    "from sklearn.model_selection import train_test_split\n",
    "X_train_ps_cv, X_test_ps_cv, y_train_ps_cv, y_test_ps_cv = train_test_split(X_ps_cv, y,\n",
    "                                                                            test_size=0.2,\n",
    "                                                                            random_state=42)\n",
    "X_train_lmtzr_cv, X_test_lmtzr_cv, y_train_lmtzr_cv, y_test_lmtzr_cv = train_test_split(X_lmtzr_cv, y,\n",
    "                                                                            test_size=0.2,\n",
    "                                                                            random_state=42)\n",
    "X_train_ps_tfidf, X_test_ps_tfidf, y_train_ps_tfidf, y_test_ps_tfidf = train_test_split(X_ps_tfidf, y,\n",
    "                                                                            test_size=0.2,\n",
    "                                                                            random_state=42)\n",
    "X_train_lmtzr_tfidf, X_test_lmtzr_tfidf, y_train_lmtzr_tfidf, y_test_lmtzr_tfidf = train_test_split(X_lmtzr_tfidf, y,\n",
    "                                                                            test_size=0.2,\n",
    "                                                                            random_state=42)\n",
    "\n",
    "### Model Building\n",
    "from sklearn.naive_bayes import MultinomialNB\n",
    "mNB = MultinomialNB()\n",
    "spam_detect_model_1 =mNB.fit(X_train_ps_cv, y_train_ps_cv)\n",
    "y_pred_ps_cv = spam_detect_model.predict(X_test_ps_cv)\n",
    "\n",
    "spam_detect_model_2 =mNB.fit(X_train_lmtzr_cv, y_train_lmtzr_cv)\n",
    "y_pred_lmtzr_cv = spam_detect_model.predict(X_test_lmtzr_cv)\n",
    "\n",
    "spam_detect_model_3 =mNB.fit(X_train_ps_tfidf, y_train_ps_tfidf)\n",
    "y_pred_ps_tfidf = spam_detect_model.predict(X_test_ps_tfidf)\n",
    "\n",
    "spam_detect_model_4 =mNB.fit(X_train_lmtzr_tfidf, y_train_lmtzr_tfidf)\n",
    "y_pred_lmtzr_tfidf = spam_detect_model.predict(X_test_lmtzr_tfidf)"
   ]
  },
  {
   "cell_type": "code",
   "execution_count": 63,
   "metadata": {},
   "outputs": [
    {
     "data": {
      "text/plain": [
       "Text(0.5, 1.0, 'Lemmatization+TfIdfVectorizer')"
      ]
     },
     "execution_count": 63,
     "metadata": {},
     "output_type": "execute_result"
    },
    {
     "data": {
      "image/png": "[encoded data removed]",
      "text/plain": [
       "<Figure size 720x720 with 4 Axes>"
      ]
     },
     "metadata": {
      "needs_background": "light"
     },
     "output_type": "display_data"
    }
   ],
   "source": [
    "import seaborn as sns \n",
    "import matplotlib.pyplot as plt\n",
    "from sklearn.metrics import confusion_matrix\n",
    "mat_1 = confusion_matrix(y_test_ps_cv, y_pred_ps_cv)\n",
    "mat_2 = confusion_matrix(y_test_lmtzr_cv, y_pred_lmtzr_cv)\n",
    "mat_3 = confusion_matrix(y_test_ps_tfidf, y_pred_ps_tfidf)\n",
    "mat_4 = confusion_matrix(y_test_lmtzr_tfidf, y_pred_lmtzr_tfidf)\n",
    "\n",
    "fig = plt.figure(figsize = (10,10)) # width x height\n",
    "ax1 = fig.add_subplot(2, 2, 1) # row, column, position\n",
    "ax2 = fig.add_subplot(2, 2, 2)\n",
    "ax3 = fig.add_subplot(2, 2, 3)\n",
    "ax4 = fig.add_subplot(2, 2, 4)\n",
    "\n",
    "sns.heatmap(mat_1, ax=ax1, annot=True, square=True, cmap='viridis', fmt='g', cbar=False)\n",
    "ax1.set_title(\"Stemming+CountVectorizer\", weight='bold')\n",
    "sns.heatmap(mat_2, ax=ax2, annot=True, square=True, cmap='viridis', fmt='g', cbar=False)\n",
    "ax2.set_title(\"Lemmatization+CountVectorizer\", weight='bold')\n",
    "sns.heatmap(mat_3, ax=ax3, annot=True, square=True, cmap='viridis', fmt='g', cbar=False)\n",
    "ax3.set_title(\"Stemming+TfIdfVectorizer\", weight='bold')\n",
    "sns.heatmap(mat_4, ax=ax4, annot=True, square=True, cmap='viridis', fmt='g', cbar=False)\n",
    "ax4.set_title(\"Lemmatization+TfIdfVectorizer\", weight='bold')"
   ]
  },
  {
   "cell_type": "markdown",
   "metadata": {},
   "source": [
    "Here, we don't want our model to classify a **non-spam** message as **spam** since it might have some important messages. However, it is ok to classify a **spam** as **non-spam**. So, we want our model to lower **[1 0]** of the confusion matrix as much as possible."
   ]
  },
  {
   "cell_type": "markdown",
   "metadata": {},
   "source": [
    "#### Outcome\n",
    "**Lemmatizatio+CountVectorizer** yields the best model amongst all."
   ]
  }
 ],
 "metadata": {
  "kernelspec": {
   "display_name": "Python 3",
   "language": "python",
   "name": "python3"
  },
  "language_info": {
   "codemirror_mode": {
    "name": "ipython",
    "version": 3
   },
   "file_extension": ".py",
   "mimetype": "text/x-python",
   "name": "python",
   "nbconvert_exporter": "python",
   "pygments_lexer": "ipython3",
   "version": "3.7.4"
  },
  "toc": {
   "base_numbering": 1,
   "nav_menu": {},
   "number_sections": false,
   "sideBar": true,
   "skip_h1_title": false,
   "title_cell": "Table of Contents",
   "title_sidebar": "Contents",
   "toc_cell": false,
   "toc_position": {},
   "toc_section_display": true,
   "toc_window_display": true
  },
  "varInspector": {
   "cols": {
    "lenName": 16,
    "lenType": 16,
    "lenVar": 40
   },
   "kernels_config": {
    "python": {
     "delete_cmd_postfix": "",
     "delete_cmd_prefix": "del ",
     "library": "var_list.py",
     "varRefreshCmd": "print(var_dic_list())"
    },
    "r": {
     "delete_cmd_postfix": ") ",
     "delete_cmd_prefix": "rm(",
     "library": "var_list.r",
     "varRefreshCmd": "cat(var_dic_list()) "
    }
   },
   "types_to_exclude": [
    "module",
    "function",
    "builtin_function_or_method",
    "instance",
    "_Feature"
   ],
   "window_display": false
  }
 },
 "nbformat": 4,
 "nbformat_minor": 2
}
